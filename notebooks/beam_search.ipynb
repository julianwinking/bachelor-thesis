{
 "cells": [
  {
   "cell_type": "markdown",
   "metadata": {},
   "source": [
    "# Beam Search\n",
    "Beam search is a heuristic search algorithm. At every step, only the top-k candidates are kept. k is called the beam width.\n",
    "This approach can be deconstructed as a pruned breadth-first search guided by a scoring function.\n",
    "\n",
    "At each step in the algorithm, all current sequences are expanded with all possible next steps. However, only the top-k scoring sequences are kept to use them in the next step."
   ]
  },
  {
   "cell_type": "code",
   "execution_count": 8,
   "metadata": {},
   "outputs": [],
   "source": [
    "# Example implementation with word probabilities\n",
    "\n",
    "word_probs = {\n",
    "    \"\": [(\"I\", 0.6), (\"You\", 0.4)],\n",
    "    \"I\": [(\"am\", 0.5), (\"like\", 0.3), (\"will\", 0.2)],\n",
    "    \"You\": [(\"are\", 0.7), (\"like\", 0.3)],\n",
    "    \"I am\": [(\"happy\", 0.6), (\"tired\", 0.4)],\n",
    "    \"I like\": [(\"pizza\", 0.9), (\"salad\", 0.1)],\n",
    "    \"You are\": [(\"cool\", 1.0)],\n",
    "}\n",
    "\n",
    "def beam_search(start, word_probs, beam_width=2):\n",
    "    # Initialize the beam with the start word\n",
    "    beam = [(start, 1.0)]  # (sequence, probability)\n",
    "\n",
    "    # Iterate for a fixed number of steps\n",
    "    for _ in range(2):  # Number of maximal iterations\n",
    "        new_beam = []\n",
    "        for sequence, probability in beam:\n",
    "            if sequence in word_probs:  # Check if the sequence has next words\n",
    "                for next_word, next_prob in word_probs[sequence]:\n",
    "                    new_seq = f\"{sequence} {next_word}\"\n",
    "                    new_prob = probability * next_prob\n",
    "                    new_beam.append((new_seq, new_prob))\n",
    "\n",
    "        # Sort by probability and keep only the top beam_width sequences (first entries)\n",
    "        new_beam.sort(key=lambda x: x[1], reverse=True)\n",
    "        beam = new_beam[:beam_width]\n",
    "\n",
    "    return beam"
   ]
  },
  {
   "cell_type": "code",
   "execution_count": 9,
   "metadata": {},
   "outputs": [
    {
     "name": "stdout",
     "output_type": "stream",
     "text": [
      "[('I am happy', 0.3), ('I like pizza', 0.27), ('I am tired', 0.2)]\n",
      "I am happy\n"
     ]
    }
   ],
   "source": [
    "res = beam_search(\"I\", word_probs, 3)\n",
    "\n",
    "print(res)\n",
    "print(res[0][0])"
   ]
  }
 ],
 "metadata": {
  "kernelspec": {
   "display_name": ".venv",
   "language": "python",
   "name": "python3"
  },
  "language_info": {
   "codemirror_mode": {
    "name": "ipython",
    "version": 3
   },
   "file_extension": ".py",
   "mimetype": "text/x-python",
   "name": "python",
   "nbconvert_exporter": "python",
   "pygments_lexer": "ipython3",
   "version": "3.12.4"
  }
 },
 "nbformat": 4,
 "nbformat_minor": 2
}
